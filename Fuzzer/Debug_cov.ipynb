{
 "cells": [
  {
   "cell_type": "code",
   "execution_count": 36,
   "metadata": {},
   "outputs": [
    {
     "name": "stdout",
     "output_type": "stream",
     "text": [
      "['        sb x10, -21(x3)                           0000\\n', '_l74:   sraw x13, x30, x14                        0000\\n', '_l75:   andi x5, x5, 1730                         0000\\n', '_l76:   blt x5, x23, _l98                         0000\\n', '_l77:   bne x29, x17, _l112                       0000\\n', '_l78:   slti x8, x16, -1144                       0000\\n', '_l79:   slliw x1, x2, 17                          0000\\n', '_l80:   subw x29, x0, x27                         0000\\n', '_l81:   la x9, d_4_25                             0000\\n', '        lw x6, 12(x9)                             0000\\n', '_l82:   la x29, d_2_27                            0000\\n', '        lbu x7, -8(x29)                           0000\\n', '_l83:   sltiu x4, x28, -441                       0000\\n', '_l84:   beq x27, x6, _l108                        0000\\n', '_l85:   sraiw x6, x22, 25                         0000\\n', '_l86:   la x24, d_5_17                            0000\\n', '        sh x9, -4(x24)                            0000\\n', '_l87:   la x6, d_3_12                             0000\\n', '        lui x18, 0xffe00                          0000\\n', '        xor x6, x6, x18                           0000\\n', '        lbu x16, 25(x6)                           0000\\n', '_l88:   andi x20, x11, 1428                       0000\\n', '_l89:   la x29, d_5_16                            0000\\n', '        sh x4, -2(x29)                            0000\\n', '_l90:   auipc x27, 495519                         0000\\n', '_l91:   andi x21, x4, -0                          0000\\n', '_l92:   la x4, d_5_15                             0000\\n', '        sw x17, -24(x4)                           0000\\n', '_l93:   la x16, d_5_17                            0000\\n', '        lhu x7, 8(x16)                            0000\\n', '_l94:   slliw x12, x29, 27                        0000\\n', '_l95:   la x28, _l79                              0000\\n', '        lb x12, -17(x28)                          0000\\n', '_l96:   srlw x21, x24, x12                        0000\\n', '_l97:   bge x19, x3, _l116                        0000\\n', '_l98:   subw x21, x1, x12                         0000\\n', '_l99:   la x28, d_2_7                             0000\\n', '        lbu x30, -16(x28)                         0000\\n', '_l100:  la x15, d_0_19                            0000\\n', '        lb x30, 24(x15)                           0000\\n', '_l101:  la x11, d_3_10                            0000\\n', '        sh x21, -14(x11)                          0000\\n', '_l102:  xori x24, x18, 1934                       0000\\n', '_l103:  addw x0, x22, x20                         0000\\n', '_l104:  bgeu x21, x29, _l107                      0000\\n', '_l105:  la x21, d_3_17                            0000\\n', '        lbu x25, 5(x21)                           0000\\n', '_l106:  la x5, d_3_4                              0000\\n', '        lwu x19, -12(x5)                          0000\\n', '_l107:  blt x6, x17, _l109                        0000\\n', '_l108:  addw x16, x0, x9                          0000\\n', '_l109:  bgeu x4, x10, _l120                       0000\\n', '_l110:  la x8, d_1_3                              0000\\n', '        sh x25, -30(x8)                           0000\\n', '_l111:  bge x26, x14, _l120                       0000\\n', '_l112:  sltiu x18, x26, 21                        0000\\n', '_l113:  bge x22, x25, _l119                       0000\\n', '_l114:  slliw x7, x0, 22                          0000\\n', '_l115:  andi x14, x18, 612                        0000\\n', '_l116:  la x3, d_4_24                             0000\\n', '        lbu x20, -25(x3)                          0000\\n', '_l117:  sllw x15, x14, x22                        0000\\n', '_l118:  srai x11, x22, 0                          0000\\n', '_l119:  slti x10, x8, -115                        0000\\n', '_l120:                                            0000\\n', '[HSCHost] Start contract checking\\n', 'Running file /home/em-student/Documents/0417-5-experiment/.input_0_a.elf.\\n', 'ELF Entry @ 0x80000000\\n', 'begin_signature: 0x80002000\\n', 'end_signature: 0x800023e0\\n', 'SUCCESS\\n', 'Running file /home/em-student/Documents/0417-5-experiment/.input_0_b.elf.\\n', 'ELF Entry @ 0x80000000\\n', 'begin_signature: 0x80002000\\n', 'end_signature: 0x800023e0\\n', 'SUCCESS\\n', 'seed 99 was distinguishable and downgraded to -1\\n', '\\x1b[1;31m[HSCHost] contract distinguishable\\x1b[1;m\\n', '[DifuzzRTL] Stop Fuzzing, total 290 cov_points\\n', '59267000.00ns INFO     cocotb.regression                         regression.py:364  in _score_test                     Test Passed: Run_001\\n', '59267000.00ns INFO     cocotb.regression                         regression.py:487  in _log_test_summary               Passed 1 tests (0 skipped)\\n', '59267000.00ns INFO     cocotb.regression                         regression.py:557  in _log_test_summary               ***************************************************************************\\n', '                                                                                                                       ** TEST               PASS/FAIL  SIM TIME(NS)  REAL TIME(S)  RATIO(NS/S) **\\n', '                                                                                                                       ***************************************************************************\\n', '                                                                                                                       ** DifuzzRTL.Run_001    PASS     59267000.00         25.74   2302520.64  **\\n', '                                                                                                                       ***************************************************************************\\n', '                                                                                                                       \\n', '59267000.00ns INFO     cocotb.regression                         regression.py:574  in _log_sim_summary                *************************************************************************************\\n', '                                                                                                                       **                                 ERRORS : 0                                      **\\n', '                                                                                                                       *************************************************************************************\\n', '                                                                                                                       **                               SIM TIME : 59267000.00 NS                         **\\n', '                                                                                                                       **                              REAL TIME : 25.78 S                                **\\n', '                                                                                                                       **                        SIM / REAL TIME : 2299304.78 NS/S                        **\\n', '                                                                                                                       *************************************************************************************\\n', '                                                                                                                       \\n', '59267000.00ns INFO     cocotb.regression                         regression.py:259  in tear_down                       Shutting down...\\n', '- :0: Verilog $finish\\n', '- /home/em-student/tools/hw-sw-contract-fuzzer/.direnv/python-3.8.10/lib/python3.8/site-packages/cocotb/share/lib/verilator/verilator.cpp:118: Verilog $finish\\n', '- /home/em-student/tools/hw-sw-contract-fuzzer/.direnv/python-3.8.10/lib/python3.8/site-packages/cocotb/share/lib/verilator/verilator.cpp:118: Second verilog $finish, exiting\\n', \"make[1]: Leaving directory '/home/em-student/tools/hw-sw-contract-fuzzer/Fuzzer'\\n\"]\n"
     ]
    }
   ],
   "source": [
    "f = open(\"0417_5_log.txt\",\"r\")\n",
    "lines = f.readlines()\n",
    "print(lines[-100:])"
   ]
  },
  {
   "cell_type": "code",
   "execution_count": 37,
   "metadata": {},
   "outputs": [],
   "source": [
    "idx_lines = list(filter(lambda x: \"idx\" in x, lines))"
   ]
  },
  {
   "cell_type": "code",
   "execution_count": 38,
   "metadata": {},
   "outputs": [
    {
     "name": "stdout",
     "output_type": "stream",
     "text": [
      "idx: 33319\n",
      "\n"
     ]
    }
   ],
   "source": [
    "print(idx_lines[0])"
   ]
  },
  {
   "cell_type": "code",
   "execution_count": 39,
   "metadata": {},
   "outputs": [
    {
     "data": {
      "text/plain": [
       "set()"
      ]
     },
     "execution_count": 39,
     "metadata": {},
     "output_type": "execute_result"
    }
   ],
   "source": [
    "l = list()\n",
    "templ = list()\n",
    "for e in idx_lines:\n",
    "    if \"33319\" in e:\n",
    "        l.append(set(templ))\n",
    "        templ = [e]\n",
    "    else:\n",
    "        templ.append(e)\n",
    "l.append(set(templ))\n",
    "l.pop(0)"
   ]
  },
  {
   "cell_type": "code",
   "execution_count": 40,
   "metadata": {},
   "outputs": [
    {
     "data": {
      "text/plain": [
       "20"
      ]
     },
     "execution_count": 40,
     "metadata": {},
     "output_type": "execute_result"
    }
   ],
   "source": [
    "len(l)"
   ]
  },
  {
   "cell_type": "code",
   "execution_count": 41,
   "metadata": {},
   "outputs": [
    {
     "name": "stdout",
     "output_type": "stream",
     "text": [
      "55\n",
      "70\n",
      "64\n",
      "46\n",
      "60\n",
      "67\n",
      "53\n",
      "61\n",
      "53\n",
      "66\n",
      "69\n",
      "55\n",
      "68\n",
      "50\n",
      "61\n",
      "60\n",
      "75\n",
      "55\n",
      "55\n",
      "66\n",
      "290\n"
     ]
    }
   ],
   "source": [
    "for e in l:\n",
    "    print(len(e))\n",
    "print(len(set(idx_lines)))"
   ]
  },
  {
   "cell_type": "code",
   "execution_count": 45,
   "metadata": {},
   "outputs": [
    {
     "name": "stdout",
     "output_type": "stream",
     "text": [
      "55\n",
      "46\n",
      "40\n",
      "8\n",
      "19\n",
      "14\n",
      "3\n",
      "6\n",
      "3\n",
      "9\n",
      "35\n",
      "5\n",
      "8\n",
      "7\n",
      "7\n",
      "6\n",
      "15\n",
      "2\n",
      "1\n",
      "1\n"
     ]
    }
   ],
   "source": [
    "tot = set()\n",
    "for e in l:\n",
    "    t = e - tot\n",
    "    print(len(t))\n",
    "    tot |= e\n"
   ]
  },
  {
   "cell_type": "code",
   "execution_count": null,
   "metadata": {},
   "outputs": [],
   "source": []
  }
 ],
 "metadata": {
  "kernelspec": {
   "display_name": "python-3.8.10",
   "language": "python",
   "name": "python3"
  },
  "language_info": {
   "codemirror_mode": {
    "name": "ipython",
    "version": 3
   },
   "file_extension": ".py",
   "mimetype": "text/x-python",
   "name": "python",
   "nbconvert_exporter": "python",
   "pygments_lexer": "ipython3",
   "version": "3.8.10"
  },
  "orig_nbformat": 4
 },
 "nbformat": 4,
 "nbformat_minor": 2
}
