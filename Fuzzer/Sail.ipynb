{
 "cells": [
  {
   "cell_type": "code",
   "execution_count": 1,
   "metadata": {},
   "outputs": [],
   "source": [
    "from HSCSim.host import rvHSChost, hscInput"
   ]
  },
  {
   "cell_type": "code",
   "execution_count": 10,
   "metadata": {},
   "outputs": [],
   "source": [
    "sail = '/home/em-student/tools/riscv-sail/c_emulator/riscv_sim_RV64'\n",
    "out = '/home/em-student/'\n",
    "proc_num = 0\n",
    "\n",
    "hsc_outfiles = (out + '/.hsc_out_{}_a.txt'.format(proc_num), out + '/.hsc_out_{}_b.txt'.format(proc_num))\n",
    "\n",
    "sail_arg = ['-V']\n",
    "sail_arg += ['-L', 'ct']\n",
    "\n",
    "hscHost = rvHSChost(sail, sail_arg, hsc_outfiles)"
   ]
  },
  {
   "cell_type": "code",
   "execution_count": 13,
   "metadata": {},
   "outputs": [],
   "source": [
    "f = '/home/em-student/experiment_1/ct_cov_1/.input_0_a.elf'\n",
    "g = '/home/em-student/experiment_1/ct_cov_1/.input_0_b.elf'\n",
    "hsc_in = hscInput(f,g)\n",
    "stop= []"
   ]
  },
  {
   "cell_type": "code",
   "execution_count": 14,
   "metadata": {},
   "outputs": [
    {
     "name": "stdout",
     "output_type": "stream",
     "text": [
      "using ct as hardware-software contract.\n",
      "Running file /home/em-student/experiment_1/ct_cov_1/.input_0_a.elf.\n",
      "using ct as hardware-software contract.\n",
      "Running file /home/em-student/experiment_1/ct_cov_1/.input_0_b.elf.\n"
     ]
    },
    {
     "name": "stderr",
     "output_type": "stream",
     "text": [
      "[Sail] Allocating new block 0x80000000\n",
      "[Sail] Allocating new block 0x0\n",
      "[Sail] Allocating new block 0x80000000\n",
      "[Sail] Allocating new block 0x0\n"
     ]
    },
    {
     "data": {
      "text/plain": [
       "0"
      ]
     },
     "execution_count": 14,
     "metadata": {},
     "output_type": "execute_result"
    }
   ],
   "source": [
    "hscHost.run_test(hsc_in,stop)"
   ]
  },
  {
   "cell_type": "code",
   "execution_count": 15,
   "metadata": {},
   "outputs": [],
   "source": [
    "import timeit"
   ]
  },
  {
   "cell_type": "code",
   "execution_count": 27,
   "metadata": {},
   "outputs": [
    {
     "name": "stdout",
     "output_type": "stream",
     "text": [
      "using ct as hardware-software contract.\n",
      "Running file /home/em-student/experiment_1/ct_cov_1/.input_0_a.elf.\n",
      "using ct as hardware-software contract.\n",
      "Running file /home/em-student/experiment_1/ct_cov_1/.input_0_b.elf.\n",
      "Elapsed time: 16446.848 µs\n"
     ]
    },
    {
     "name": "stderr",
     "output_type": "stream",
     "text": [
      "[Sail] Allocating new block 0x80000000\n",
      "[Sail] Allocating new block 0x0\n",
      "[Sail] Allocating new block 0x80000000\n",
      "[Sail] Allocating new block 0x0\n"
     ]
    }
   ],
   "source": [
    "# record start time\n",
    "t_0 = timeit.default_timer()\n",
    "# call function\n",
    "res = hscHost.run_test(hsc_in,stop)\n",
    "# record end time\n",
    "t_1 = timeit.default_timer()\n",
    " \n",
    "# calculate elapsed time and print\n",
    "elapsed_time = round((t_1 - t_0) * 10 ** 6, 3)\n",
    "print(f\"Elapsed time: {elapsed_time} µs\")"
   ]
  },
  {
   "cell_type": "code",
   "execution_count": null,
   "metadata": {},
   "outputs": [],
   "source": []
  },
  {
   "cell_type": "code",
   "execution_count": null,
   "metadata": {},
   "outputs": [],
   "source": []
  }
 ],
 "metadata": {
  "kernelspec": {
   "display_name": "Python 3.8.10 ('python-3.8.10': venv)",
   "language": "python",
   "name": "python3"
  },
  "language_info": {
   "codemirror_mode": {
    "name": "ipython",
    "version": 3
   },
   "file_extension": ".py",
   "mimetype": "text/x-python",
   "name": "python",
   "nbconvert_exporter": "python",
   "pygments_lexer": "ipython3",
   "version": "3.8.10"
  },
  "orig_nbformat": 4,
  "vscode": {
   "interpreter": {
    "hash": "e33c9613f604c8349cd36819d65c669bf7dc1d41cb7e5262fca833633b66404b"
   }
  }
 },
 "nbformat": 4,
 "nbformat_minor": 2
}
