{
 "cells": [
  {
   "cell_type": "code",
   "execution_count": 1,
   "metadata": {},
   "outputs": [],
   "source": [
    "from HSCSim.host import rvHSChost, hscInput"
   ]
  },
  {
   "cell_type": "code",
   "execution_count": 6,
   "metadata": {},
   "outputs": [],
   "source": [
    "sail = '/home/gideon/tools/sail-riscv/c_emulator/riscv_sim_RV64'\n",
    "out = '/home/gideon/Documents/fuzz_out'\n",
    "proc_num = 0\n",
    "\n",
    "hsc_outfiles = (out + '/.hsc_out_{}_a.txt'.format(proc_num), out + '/.hsc_out_{}_b.txt'.format(proc_num))\n",
    "\n",
    "sail_arg = ['-V']\n",
    "sail_arg += ['-L', 'ct']\n",
    "\n",
    "hscHost = rvHSChost(sail, sail_arg, hsc_outfiles)"
   ]
  },
  {
   "cell_type": "code",
   "execution_count": 10,
   "metadata": {},
   "outputs": [],
   "source": [
    "f = '/home/gideon/tools/sail-riscv/test/riscv-tests/rv64ui-p-addi.elf'\n",
    "g = '/home/gideon/tools/sail-riscv/test/riscv-tests/rv64ui-p-add.elf'\n",
    "hsc_in = hscInput(f,g)"
   ]
  },
  {
   "cell_type": "code",
   "execution_count": 11,
   "metadata": {},
   "outputs": [
    {
     "name": "stdout",
     "output_type": "stream",
     "text": [
      "Running file /home/gideon/tools/sail-riscv/test/riscv-tests/rv64ui-p-addi.elf.\n",
      "ELF Entry @ 0x80000000\n",
      "begin_signature: 0x80002000\n",
      "end_signature: 0x80002000\n",
      "SUCCESS\n",
      "Running file /home/gideon/tools/sail-riscv/test/riscv-tests/rv64ui-p-add.elf.\n",
      "ELF Entry @ 0x80000000\n",
      "begin_signature: 0x80002000\n",
      "end_signature: 0x80002000\n",
      "SUCCESS\n"
     ]
    },
    {
     "name": "stderr",
     "output_type": "stream",
     "text": [
      "using ct as hardware-software contract.\n",
      "[Sail] Allocating new block 0x80000000\n",
      "tohost located at 0x80001000\n",
      "[Sail] Allocating new block 0x0\n",
      "using ct as hardware-software contract.\n",
      "[Sail] Allocating new block 0x80000000\n",
      "tohost located at 0x80001000\n",
      "[Sail] Allocating new block 0x0\n"
     ]
    },
    {
     "data": {
      "text/plain": [
       "False"
      ]
     },
     "execution_count": 11,
     "metadata": {},
     "output_type": "execute_result"
    }
   ],
   "source": [
    "hscHost.run_test(hsc_in)"
   ]
  },
  {
   "cell_type": "code",
   "execution_count": null,
   "metadata": {},
   "outputs": [],
   "source": []
  }
 ],
 "metadata": {
  "kernelspec": {
   "display_name": "Python 3.8.10 ('python-3.8.10': venv)",
   "language": "python",
   "name": "python3"
  },
  "language_info": {
   "codemirror_mode": {
    "name": "ipython",
    "version": 3
   },
   "file_extension": ".py",
   "mimetype": "text/x-python",
   "name": "python",
   "nbconvert_exporter": "python",
   "pygments_lexer": "ipython3",
   "version": "3.8.10"
  },
  "orig_nbformat": 4,
  "vscode": {
   "interpreter": {
    "hash": "e33c9613f604c8349cd36819d65c669bf7dc1d41cb7e5262fca833633b66404b"
   }
  }
 },
 "nbformat": 4,
 "nbformat_minor": 2
}
