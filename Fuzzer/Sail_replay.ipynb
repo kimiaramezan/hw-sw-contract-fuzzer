{
 "cells": [
  {
   "cell_type": "code",
   "execution_count": null,
   "metadata": {},
   "outputs": [],
   "source": [
    "import os\n",
    "#os.listdir('/home/em-student/experiment_boom/arch_cov_1/leaks/sim_input/')\n",
    "os.listdir('/home/em-student/experiment_1/ct_cov_1/leaks/sim_input/')\n"
   ]
  },
  {
   "cell_type": "code",
   "execution_count": null,
   "metadata": {},
   "outputs": [],
   "source": [
    "# input files\n",
    "#in_file = '/home/em-student/experiment_1/ct_cov_1/leaks/sim_input/id_606718.si'\n",
    "in_file = '/home/em-student/experiment_boom/arch_cov_1/leaks/sim_input/id_8536.si'\n"
   ]
  },
  {
   "cell_type": "code",
   "execution_count": null,
   "metadata": {},
   "outputs": [],
   "source": [
    "# config\n",
    "import tempfile\n",
    "from src.utils import *\n",
    "from Config import ROCKET_CONF, BOOM_CONF\n",
    "outdir = tempfile.mkdtemp()\n",
    "\n",
    "\n",
    "(mutator, preprocessor, hscHost) = setupHSC('Template', outdir, proc_num=0, debug=True, contract='ct', isa='RV64IM')\n",
    "\n",
    "(sim_input, (data_a, data_b), assert_intr) = mutator.read_siminput(in_file)\n",
    "\n",
    "(hsc_input, rtl_input, symbols) = preprocessor.process(sim_input, data_a, data_b, False)\n",
    "stop = [ proc_state.NORMAL ]"
   ]
  },
  {
   "cell_type": "code",
   "execution_count": null,
   "metadata": {},
   "outputs": [],
   "source": [
    "# process and run\n",
    "args = [ hscHost.sail ] + hscHost.sail_args + ['-vplatform']#, '-vinstr']\n",
    "args_a = args + [ hsc_input.binary_a, '-o', hscHost.out_a]\n",
    "result = subprocess.run(args_a, stdout=subprocess.PIPE)\n",
    "\n",
    "# Get the stdout and stderr from the result\n",
    "stdout = result.stdout.decode()"
   ]
  },
  {
   "cell_type": "code",
   "execution_count": null,
   "metadata": {},
   "outputs": [],
   "source": [
    "print(stdout)"
   ]
  },
  {
   "cell_type": "code",
   "execution_count": null,
   "metadata": {},
   "outputs": [],
   "source": [
    "fb = open(os.path.join(outdir, '.input_0_a.S'))\n",
    "fb_lines = fb.readlines()\n",
    "for l in fb_lines:\n",
    "    print(l)"
   ]
  },
  {
   "cell_type": "code",
   "execution_count": null,
   "metadata": {},
   "outputs": [],
   "source": [
    "hscHost.sail_args"
   ]
  },
  {
   "cell_type": "code",
   "execution_count": null,
   "metadata": {},
   "outputs": [],
   "source": [
    "os.listdir(outdir)"
   ]
  },
  {
   "cell_type": "code",
   "execution_count": null,
   "metadata": {},
   "outputs": [],
   "source": [
    "import re\n",
    "\n",
    "def extract_X(string):\n",
    "    pattern = r'^handling exc#0x0((?!8|9|b|B)\\w)'\n",
    "    matches = re.findall(pattern, string, re.MULTILINE)\n",
    "    return matches\n"
   ]
  },
  {
   "cell_type": "code",
   "execution_count": null,
   "metadata": {},
   "outputs": [],
   "source": [
    "extract_X(stdout)"
   ]
  },
  {
   "cell_type": "code",
   "execution_count": null,
   "metadata": {},
   "outputs": [],
   "source": [
    "list(map(lambda x: ord(x), ['7', '8', '9', 'A', 'b']))"
   ]
  },
  {
   "cell_type": "code",
   "execution_count": null,
   "metadata": {},
   "outputs": [],
   "source": []
  }
 ],
 "metadata": {
  "kernelspec": {
   "display_name": "python-3.8.10",
   "language": "python",
   "name": "python3"
  },
  "language_info": {
   "codemirror_mode": {
    "name": "ipython",
    "version": 3
   },
   "file_extension": ".py",
   "mimetype": "text/x-python",
   "name": "python",
   "nbconvert_exporter": "python",
   "pygments_lexer": "ipython3",
   "version": "3.8.10"
  },
  "orig_nbformat": 4
 },
 "nbformat": 4,
 "nbformat_minor": 2
}
