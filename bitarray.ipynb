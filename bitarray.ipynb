{
 "cells": [
  {
   "cell_type": "code",
   "execution_count": 1,
   "metadata": {},
   "outputs": [],
   "source": [
    "from hashlib import shake_128\n",
    "from random import getrandbits\n",
    "\n",
    "def get_bits():\n",
    "    v = getrandbits(1730)\n",
    "    return v.to_bytes(length=217, byteorder='big')\n",
    "    \n",
    "\n",
    "def foo():\n",
    "    num = get_bits()\n",
    "    return int.from_bytes(shake_128(num).digest(2), byteorder='big')\n"
   ]
  },
  {
   "cell_type": "code",
   "execution_count": 2,
   "metadata": {},
   "outputs": [],
   "source": [
    "from bitarray import bitarray\n",
    "from itertools import repeat\n",
    "\n",
    "x = bitarray(repeat(0,2 ** 16))\n",
    "\n",
    "def bar(last):\n",
    "    cur = last ^ foo()\n",
    "    x[cur] = 1\n",
    "    return cur >> 1"
   ]
  },
  {
   "cell_type": "code",
   "execution_count": null,
   "metadata": {},
   "outputs": [],
   "source": [
    "last = 0\n",
    "for _ in range(10000):\n",
    "    last = bar(last)"
   ]
  },
  {
   "cell_type": "code",
   "execution_count": 3,
   "metadata": {},
   "outputs": [],
   "source": [
    "last_cov = 0\n",
    "b = getrandbits(1730)"
   ]
  },
  {
   "cell_type": "code",
   "execution_count": 4,
   "metadata": {},
   "outputs": [],
   "source": [
    "last_cov = ~ last_cov & ~b"
   ]
  },
  {
   "cell_type": "code",
   "execution_count": 9,
   "metadata": {},
   "outputs": [
    {
     "data": {
      "text/plain": [
       "'-0x17def13f8ecf15c7e4241cc27bab1454433d460cc5bac6d0da285114e3ad043269cbc46cd4332fb844df6089727ae7f796ac5cb296947fae6b8e60db6791c2390ce2703850c9c8ecf5cae40c245935e9b96ee746100760dbfffd3e2e46b265823485403fe184e0869ad81c851288fb0497c26ad262d4de67f38abddc4474d1a0cfeadc302bcd04590eef1a93e1339bbbeee653abb75b7fbce9bfd2409a6e7b4457a366a9823e366f35aca38f16d4e5435fa31db6f56d0ea0fe69516bd923292213220c6291ef618260264331e213fa66b61a72c860544e105'"
      ]
     },
     "execution_count": 9,
     "metadata": {},
     "output_type": "execute_result"
    }
   ],
   "source": [
    "hex(~b)"
   ]
  },
  {
   "cell_type": "code",
   "execution_count": null,
   "metadata": {},
   "outputs": [],
   "source": [
    "c = getrandbits(1730)"
   ]
  },
  {
   "cell_type": "code",
   "execution_count": null,
   "metadata": {},
   "outputs": [],
   "source": [
    "new_cov = ~last_cov & c"
   ]
  },
  {
   "cell_type": "code",
   "execution_count": null,
   "metadata": {},
   "outputs": [],
   "source": [
    "last_cov = last_cov | c"
   ]
  },
  {
   "cell_type": "code",
   "execution_count": null,
   "metadata": {},
   "outputs": [],
   "source": [
    "hex(last_cov)"
   ]
  },
  {
   "cell_type": "code",
   "execution_count": null,
   "metadata": {},
   "outputs": [],
   "source": [
    "get_bits()"
   ]
  },
  {
   "cell_type": "code",
   "execution_count": 16,
   "metadata": {},
   "outputs": [
    {
     "data": {
      "text/plain": [
       "'0000000000000000000000000000000000000000000000000000000000000000000000000000000000000000000000000000000000000000000000000000000000000000000000000000000000000000000000000000000000000000000000000000000000000000000000000000000000000000000000000000000000000000000000000000000000000000000000000000000000000000000000000000000000000000000000000000000000000000000000000000000000000000000000000000000000000000000000000000000000000000000000000'"
      ]
     },
     "execution_count": 16,
     "metadata": {},
     "output_type": "execute_result"
    }
   ],
   "source": [
    "from bitarray.util import ba2hex\n",
    "x = bitarray(repeat(0,1732))\n",
    "ba2hex(x)"
   ]
  },
  {
   "cell_type": "code",
   "execution_count": 18,
   "metadata": {},
   "outputs": [
    {
     "data": {
      "text/plain": [
       "False"
      ]
     },
     "execution_count": 18,
     "metadata": {},
     "output_type": "execute_result"
    }
   ],
   "source": [
    "x.any()\n"
   ]
  },
  {
   "cell_type": "code",
   "execution_count": null,
   "metadata": {},
   "outputs": [],
   "source": []
  }
 ],
 "metadata": {
  "kernelspec": {
   "display_name": "Python 3.8.10 ('python-3.8.10': venv)",
   "language": "python",
   "name": "python3"
  },
  "language_info": {
   "codemirror_mode": {
    "name": "ipython",
    "version": 3
   },
   "file_extension": ".py",
   "mimetype": "text/x-python",
   "name": "python",
   "nbconvert_exporter": "python",
   "pygments_lexer": "ipython3",
   "version": "3.8.10"
  },
  "orig_nbformat": 4,
  "vscode": {
   "interpreter": {
    "hash": "519aec2daa91c372edc0b6cd37c6e3315688c4498ca593aa97aba26d1bb9a06a"
   }
  }
 },
 "nbformat": 4,
 "nbformat_minor": 2
}
