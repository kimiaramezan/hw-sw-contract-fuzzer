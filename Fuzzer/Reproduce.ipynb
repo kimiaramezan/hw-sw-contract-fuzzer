{
 "cells": [
  {
   "cell_type": "code",
   "execution_count": 5,
   "metadata": {},
   "outputs": [
    {
     "name": "stdout",
     "output_type": "stream",
     "text": [
      "/home/em-student/Documents/04-10-experiment/leaks/sim_input/\n",
      "['id_0.si']\n",
      "id_0.si\n",
      "b'[RTLHost] Start RTL simulation'\n",
      "b'[RTLHost] End of RTL simulation'\n",
      "b'[RTLHost] Observed timing leak'\n"
     ]
    }
   ],
   "source": [
    "import subprocess\n",
    "import sys\n",
    "from os import listdir\n",
    "from os.path import isfile, join\n",
    "exp = 1\n",
    "for exp in range(10,11):\n",
    "    dir = '/home/em-student/Documents/04-{}-experiment'.format(exp)\n",
    "    leaks_dir = '/home/em-student/Documents/04-{}-experiment/leaks/sim_input/'.format(exp)\n",
    "    print(leaks_dir)\n",
    "    onlyfiles = [f for f in listdir(leaks_dir) if isfile(join(leaks_dir, f))]\n",
    "    print(onlyfiles)\n",
    "    for i in onlyfiles:\n",
    "        cmd = 'make SIM_BUILD=~/Documents/fuzz_bin_rocket VFILE=rocket_tile_inst_reset TOPLEVEL=RocketTile RECORD=0 IN_FILE={} OUT={} CONTRACT=ct ISA=RV64I DEBUG=1;'.format(join(leaks_dir, i), dir)\n",
    "        p = subprocess.run(cmd, shell=True, stdout=subprocess.PIPE, stderr=sys.stdout.fileno())\n",
    "        a = p.stdout.splitlines()\n",
    "        l = list(filter(lambda x: '[RTLHost]' in str(x), a))\n",
    "        print(i)\n",
    "        for x in l:\n",
    "            print(x)"
   ]
  },
  {
   "cell_type": "code",
   "execution_count": 9,
   "metadata": {},
   "outputs": [],
   "source": []
  },
  {
   "cell_type": "code",
   "execution_count": null,
   "metadata": {},
   "outputs": [],
   "source": []
  }
 ],
 "metadata": {
  "kernelspec": {
   "display_name": "python-3.8.10",
   "language": "python",
   "name": "python3"
  },
  "language_info": {
   "codemirror_mode": {
    "name": "ipython",
    "version": 3
   },
   "file_extension": ".py",
   "mimetype": "text/x-python",
   "name": "python",
   "nbconvert_exporter": "python",
   "pygments_lexer": "ipython3",
   "version": "3.8.10"
  },
  "orig_nbformat": 4
 },
 "nbformat": 4,
 "nbformat_minor": 2
}
