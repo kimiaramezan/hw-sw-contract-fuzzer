{
 "cells": [
  {
   "cell_type": "code",
   "execution_count": 4,
   "metadata": {},
   "outputs": [],
   "source": [
    "from hashlib import shake_128\n",
    "from random import getrandbits\n",
    "\n",
    "def get_bits():\n",
    "    v = getrandbits(1730)\n",
    "    return v.to_bytes(length=217, byteorder='big')\n",
    "    \n",
    "\n",
    "def foo():\n",
    "    num = get_bits()\n",
    "    return int.from_bytes(shake_128(num).digest(2), byteorder='big')\n"
   ]
  },
  {
   "cell_type": "code",
   "execution_count": 11,
   "metadata": {},
   "outputs": [],
   "source": [
    "from bitarray import bitarray\n",
    "from itertools import repeat\n",
    "\n",
    "x = bitarray(repeat(0,2 ** 16))\n",
    "\n",
    "def bar(last):\n",
    "    cur = last ^ foo()\n",
    "    x[cur] = 1\n",
    "    return cur >> 1"
   ]
  },
  {
   "cell_type": "code",
   "execution_count": 18,
   "metadata": {},
   "outputs": [],
   "source": [
    "last = 0\n",
    "for _ in range(10000):\n",
    "    last = bar(last)"
   ]
  },
  {
   "cell_type": "code",
   "execution_count": 19,
   "metadata": {},
   "outputs": [
    {
     "data": {
      "text/plain": [
       "29968"
      ]
     },
     "execution_count": 19,
     "metadata": {},
     "output_type": "execute_result"
    }
   ],
   "source": [
    "x.count(1)"
   ]
  },
  {
   "cell_type": "code",
   "execution_count": 21,
   "metadata": {},
   "outputs": [
    {
     "data": {
      "text/plain": [
       "65536"
      ]
     },
     "execution_count": 21,
     "metadata": {},
     "output_type": "execute_result"
    }
   ],
   "source": [
    "len(x)"
   ]
  },
  {
   "cell_type": "code",
   "execution_count": null,
   "metadata": {},
   "outputs": [],
   "source": []
  }
 ],
 "metadata": {
  "kernelspec": {
   "display_name": "Python 3.8.10 ('python-3.8.10': venv)",
   "language": "python",
   "name": "python3"
  },
  "language_info": {
   "codemirror_mode": {
    "name": "ipython",
    "version": 3
   },
   "file_extension": ".py",
   "mimetype": "text/x-python",
   "name": "python",
   "nbconvert_exporter": "python",
   "pygments_lexer": "ipython3",
   "version": "3.8.10"
  },
  "orig_nbformat": 4,
  "vscode": {
   "interpreter": {
    "hash": "519aec2daa91c372edc0b6cd37c6e3315688c4498ca593aa97aba26d1bb9a06a"
   }
  }
 },
 "nbformat": 4,
 "nbformat_minor": 2
}
